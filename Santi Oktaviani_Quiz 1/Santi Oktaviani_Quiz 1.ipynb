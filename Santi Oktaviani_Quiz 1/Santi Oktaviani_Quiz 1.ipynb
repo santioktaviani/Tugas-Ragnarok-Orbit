{
 "cells": [
  {
   "cell_type": "markdown",
   "id": "0c0ded98",
   "metadata": {},
   "source": [
    "Quiz Sesi Pagi\n",
    "\n",
    "Santi Oktaviani\n",
    "Universitas Muhammadiyah Jakarta"
   ]
  },
  {
   "cell_type": "markdown",
   "id": "f1f78a66",
   "metadata": {},
   "source": [
    "# Python OOP"
   ]
  },
  {
   "cell_type": "markdown",
   "id": "508c011a",
   "metadata": {},
   "source": [
    "1. OOP adalah metode pemrograman yg berorientasi pada objek yg dibuat ke dalam bentuk kode program."
   ]
  },
  {
   "cell_type": "code",
   "execution_count": 9,
   "id": "5c93b16e",
   "metadata": {},
   "outputs": [
    {
     "name": "stdout",
     "output_type": "stream",
     "text": [
      "kategori: Tablet, merk: Apple, tipe: Ipad Mini 6, warna: space gray, pink, purple, starlight\n",
      "bip bip \n",
      "kategori: Tablet, merk: Apple, tipe: Ipad Mini 6, warna: space gray, pink, purple, starlight\n",
      "bip bip Tablet\n",
      "kategori: Tablet, barang elektronik: True, merk: Apple\n",
      "tipe: Ipad Mini 6, warna: space gray, pink, purple, starlight, OS: IpadOS 15, storage: 64 GB\n",
      "baguss banget loh\n",
      "baguss banget loh\n",
      "baguss banget loh\n",
      "wow...murah banget...\n"
     ]
    }
   ],
   "source": [
    "# 1. implementasi konsep OOP menggunakan python\n",
    "\n",
    "# OOP class : Benda\n",
    "\n",
    "# Encapsulation\n",
    "\n",
    "kategori = \"Tablet\"\n",
    "merk = \"Apple\"\n",
    "tipe = \"Ipad Mini 6\"\n",
    "warna = \"space gray, pink, purple, starlight\"\n",
    "\n",
    "def ringtone():\n",
    "  print(\"bip bip \")\n",
    "\n",
    "def info_tablet(kategori, merk, tipe, warna):\n",
    "  print(f\"kategori: {kategori}, merk: {merk}, tipe: {tipe}, warna: {warna}\") \n",
    "\n",
    "info_tablet(kategori, merk, tipe, warna)\n",
    "ringtone()\n",
    "\n",
    "class Tablet(object):\n",
    "    \n",
    "    nama_tablet = \"\"\n",
    "    def __init__(selfie, input_kategori, input_merk, input_tipe, input_warna):\n",
    "        selfie.kategori = input_kategori\n",
    "        selfie.merk = input_merk\n",
    "        selfie.tipe = input_tipe\n",
    "        selfie.warna = input_warna\n",
    "        Tablet.nama_tablet = input_kategori\n",
    "\n",
    "    def ringtone(selfie):\n",
    "        print(\"bip bip\", selfie.kategori)\n",
    "\n",
    "    def info(selfie):\n",
    "        print(f\"kategori: {kategori}, merk: {merk}, tipe: {tipe}, warna: {warna}\") \n",
    "\n",
    "\n",
    "tablet1.info()\n",
    "tablet1.ringtone()\n",
    "\n",
    "# Inheritance\n",
    "\n",
    "class Benda(object):\n",
    "    def __init__(self, kategori, barang_elektronik, merk):\n",
    "        self.kategori = kategori\n",
    "        self.barang_elektronik = barang_elektronik\n",
    "        self.merk = merk\n",
    "\n",
    "    def mati(self, komentar):\n",
    "        for x in range(komentar):\n",
    "            print(\"baguss banget loh\")\n",
    "\n",
    "    def info(self):\n",
    "        print(f\"kategori: {self.kategori}, barang elektronik: {self.barang_elektronik}, merk: {self.merk}\")\n",
    "        \n",
    "\n",
    "class Tablet(Benda):\n",
    "    def __init__(self, kategori, barang_elektronik, merk,  tipe, warna, OS,storage):\n",
    "        super().__init__(kategori, barang_elektronik, merk)\n",
    "        self.tipe = tipe\n",
    "        self.warna = warna\n",
    "        self.OS = OS\n",
    "        self.storage = storage\n",
    "\n",
    "    def mati(self):\n",
    "        super().mati(3)\n",
    "        print(\"wow...murah banget...\")\n",
    "\n",
    "    def info_tablet(self):\n",
    "        super().info()\n",
    "        print(f\"tipe: {self.tipe}, warna: {self.warna}, OS: {self.OS}, storage: {self.storage}\")\n",
    "\n",
    "Tablet1 = Tablet(\"Tablet\", True, \"Apple\", \"Ipad Mini 6\", \"space gray, pink, purple, starlight\", \"IpadOS 15\", \"64 GB\")\n",
    "\n",
    "Tablet1.info_tablet()\n",
    "Tablet1.mati()"
   ]
  },
  {
   "cell_type": "markdown",
   "id": "8ed88276",
   "metadata": {},
   "source": [
    "     Nomor 2 \n",
    "     Dua jenis modules di Python :\n",
    "   - Python custom module digunakan untuk memecah sebagian besar program menjadi file yang lebih kecil, lebih mudah dikelola, dan terorganisir\n",
    "   - Python built-in module digunakan sebagai menyelesaikan tugas matematika."
   ]
  },
  {
   "cell_type": "code",
   "execution_count": 7,
   "id": "42942b30",
   "metadata": {},
   "outputs": [
    {
     "ename": "TypeError",
     "evalue": "unsupported operand type(s) for +: 'float' and 'tuple'",
     "output_type": "error",
     "traceback": [
      "\u001b[1;31m---------------------------------------------------------------------------\u001b[0m",
      "\u001b[1;31mTypeError\u001b[0m                                 Traceback (most recent call last)",
      "\u001b[1;32mC:\\Users\\MULAND~1\\AppData\\Local\\Temp/ipykernel_5180/1997906862.py\u001b[0m in \u001b[0;36m<module>\u001b[1;34m\u001b[0m\n\u001b[0;32m      8\u001b[0m \u001b[0mt\u001b[0m \u001b[1;33m=\u001b[0m \u001b[0mmath\u001b[0m\u001b[1;33m.\u001b[0m\u001b[0mmodf\u001b[0m\u001b[1;33m(\u001b[0m\u001b[1;36m1\u001b[0m\u001b[1;33m/\u001b[0m\u001b[1;36m3\u001b[0m\u001b[1;33m)\u001b[0m\u001b[1;33m\u001b[0m\u001b[1;33m\u001b[0m\u001b[0m\n\u001b[0;32m      9\u001b[0m \u001b[0mh\u001b[0m \u001b[1;33m=\u001b[0m \u001b[0mmath\u001b[0m\u001b[1;33m.\u001b[0m\u001b[0mlog\u001b[0m\u001b[1;33m(\u001b[0m\u001b[1;36m81\u001b[0m\u001b[1;33m,\u001b[0m \u001b[1;36m3\u001b[0m\u001b[1;33m)\u001b[0m\u001b[1;33m\u001b[0m\u001b[1;33m\u001b[0m\u001b[0m\n\u001b[1;32m---> 10\u001b[1;33m \u001b[0mv\u001b[0m \u001b[1;33m=\u001b[0m \u001b[0mj\u001b[0m\u001b[1;33m+\u001b[0m\u001b[0mk\u001b[0m\u001b[1;33m+\u001b[0m\u001b[0mt\u001b[0m\u001b[1;33m+\u001b[0m\u001b[0mh\u001b[0m\u001b[1;33m\u001b[0m\u001b[1;33m\u001b[0m\u001b[0m\n\u001b[0m\u001b[0;32m     11\u001b[0m \u001b[1;33m\u001b[0m\u001b[0m\n\u001b[0;32m     12\u001b[0m \u001b[0mprint\u001b[0m\u001b[1;33m(\u001b[0m\u001b[1;34m\"Hasil dari √175 + 4√7 + (1/3) + ³log 81 adalah: \"\u001b[0m\u001b[1;33m,\u001b[0m\u001b[1;33m{\u001b[0m\u001b[0mv\u001b[0m\u001b[1;33m}\u001b[0m\u001b[1;33m)\u001b[0m\u001b[1;33m\u001b[0m\u001b[1;33m\u001b[0m\u001b[0m\n",
      "\u001b[1;31mTypeError\u001b[0m: unsupported operand type(s) for +: 'float' and 'tuple'"
     ]
    }
   ],
   "source": [
    "# nomor 3\n",
    "\n",
    "import math\n",
    "import numpy as np\n",
    "\n",
    "math.sqrt(175) + 4*math.sqrt(7) +  1/3 + math.log(81, 3)\n"
   ]
  },
  {
   "cell_type": "markdown",
   "id": "fecd727e",
   "metadata": {},
   "source": [
    "    Nomor 4\n",
    "\n",
    "    Custom exception handling adalah mekanisme yang paling diperlukan dalam menangani error yang terjadi pada saat runtime. Error yang terjadi pada program pada saat runtime menyebabkan program berhenti. Karenanya diperlukan mekanisme untuk memastikan bahwa program tetap dapat berjalan meskipun terdapat kesalahan yang terjadi.\n",
    "\n"
   ]
  },
  {
   "cell_type": "markdown",
   "id": "b078b3ba",
   "metadata": {},
   "source": [
    "# Artificial Intelligence"
   ]
  },
  {
   "cell_type": "markdown",
   "id": "730bbad5",
   "metadata": {},
   "source": [
    "1. Data terstruktur adalah data yg sangat terorganisir dan mudah dicari dengan kueri/algoritma, contoh RDBMS\n",
    "   Data tidak terstruktur adalah data yg tidak memiliki struktur yg dapat diidentifikasi, contoh gambar, suara, teks\n",
    "   3 sumber data : survey, sensus, observasi\n",
    "   \n",
    "2. - AI : kemampuan komputer yg dapat menyelesaikan pekerjaan dengan meniru cara berpikir manusia\n",
    "   - ML : teknik meningkatkan performa melalui pengalaman\n",
    "   - Deep learning : subbidang machine learning yang algoritmanya terinspirasi dari struktur otak manusia. Struktur tersebut dinamakan Artificial Neural Networks \n",
    "   \n",
    "3. Dalam Machine Learning, inputan ke dalam komputer berupa data dan output yg hasilnya adalah program yang dapat merunning otomatis tanpa bantuan manusia untuk menghasilkan output baru. Sedangkan, tradisional software inputannya berupa data dan program yg akan menghasilkan output dari data yg sudah ada.\n",
    "\n",
    "4. \n",
    "    - 3 Aplikasi machine learning pada sektor smart city : Self driving car, Siri, dan filter spam.\n",
    "    - 3 Aplikasi machine learning pada sektor agrikultur : mendeteksi penyakit pada tanaman, memprediksi cuaca saat ini atau yg akan datang, dan dan mendistribusikan produk pertanian."
   ]
  },
  {
   "cell_type": "markdown",
   "id": "a7c69cad",
   "metadata": {},
   "source": [
    "# Math for AI"
   ]
  },
  {
   "cell_type": "markdown",
   "id": "46d26c31",
   "metadata": {},
   "source": [
    "1. Kontribusi matematika dalam AI sangatlah besar, dibalik kecanggihan teknologi AI di dalam prosesnya/mesin menggunakan ilmu matematika dalam mengolah data, mencari tahu korelasi antara data dan variabel-variabel dalam, menemukan arah dari steepest descent yang dapat menentukan titik terdalam pada satu grafik data, dan memberikan informasi tentang seberapa mungkin suatu kejadian dapat terjadi\n",
    "\n",
    "2. - Vektor adalah besaran yg memiliki nilai dan arah\n",
    "   - Skalar adalah besaran yg hanya memiliki nilai\n",
    "\n",
    "3. Jarak Euclidean digunakan untuk menghitung jarak antara 2 buah titik. Sementara, jarak Manhattan digunakan dalam perhitungan jarak pada ruang jarak dengan menerapkan selisih mutlak.\n",
    "\n",
    "4. Sebab data  disimpan  untuk dihitung, dan aljabar linear menyimpan data dalam bentuk Vektor, Matriks dan Tensor dan kemudian beroperasi sesuai program yg diperintah."
   ]
  },
  {
   "cell_type": "markdown",
   "id": "655e50af",
   "metadata": {},
   "source": [
    "# Machine Learning"
   ]
  },
  {
   "cell_type": "markdown",
   "id": "dddb33df",
   "metadata": {},
   "source": [
    "1. Supervised learning memiliki label data dan atribut sedangkan unsupervied learning hanya punya atribut dan tidak punya data berlabel.\n",
    "    Contoh supervised learning yaitu klasifikasi(ciri labelnya berupa kategorikal), prediki, dan regresi (labelnya berupa numerikal, dan bersifat continue). Contoh unsupervised learning yaitu clustering, anomali detection, dan demensional reduction.\n",
    "    \n",
    "2. ML Life Cycle\n",
    "   - Tentukan tujuan\n",
    "   - Kumpulkan data\n",
    "   - Siapkan data\n",
    "   - Pilih algoritma\n",
    "   - Latih model\n",
    "   - Tes model\n",
    "   - Integrasikan model\n",
    "   \n",
    "3. Regresi memodelkan data dengan meminimalkan error antara nilai prediksi dengan nilai sebenarnya, regresi labelnya berupa numerikal, serta bersifat continue.\n",
    "    Clustering mengumpulkan data yg memiliki kemiripan di dalam kelompok dan berbeda dengan objek di kelompok lain, clustering tidak ada data berlabel.\n",
    "    \n",
    "4. Artificial Neural Network merupakan teknik dalam machine learning yg digunakan untuk mengolah informasi dari generalisasi model matematika dan bekerja dengan meniru cara kerja syaraf manusia.\n",
    "    Fungsi ANN yakni mempermudah manusia dalam mengolah big data, sebab realitanya dalam mendefinisikan aturan secara manual sangatlah sulit pada pembuatan sistem cerdas apalagi jika data yg dimiliki sangatlah besar."
   ]
  },
  {
   "cell_type": "code",
   "execution_count": null,
   "id": "e7d873eb",
   "metadata": {},
   "outputs": [],
   "source": []
  },
  {
   "cell_type": "code",
   "execution_count": null,
   "id": "03d4ae44",
   "metadata": {},
   "outputs": [],
   "source": []
  }
 ],
 "metadata": {
  "kernelspec": {
   "display_name": "Python 3 (ipykernel)",
   "language": "python",
   "name": "python3"
  },
  "language_info": {
   "codemirror_mode": {
    "name": "ipython",
    "version": 3
   },
   "file_extension": ".py",
   "mimetype": "text/x-python",
   "name": "python",
   "nbconvert_exporter": "python",
   "pygments_lexer": "ipython3",
   "version": "3.9.7"
  }
 },
 "nbformat": 4,
 "nbformat_minor": 5
}
