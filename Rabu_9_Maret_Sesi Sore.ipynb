{
 "cells": [
  {
   "cell_type": "code",
   "execution_count": 1,
   "id": "3717da20",
   "metadata": {},
   "outputs": [
    {
     "name": "stdout",
     "output_type": "stream",
     "text": [
      "Requirement already satisfied: numpy in c:\\anaconda3\\lib\\site-packages (1.22.3)\n",
      "Requirement already satisfied: scipy in c:\\anaconda3\\lib\\site-packages (1.7.1)\n",
      "Requirement already satisfied: numpy<1.23.0,>=1.16.5 in c:\\anaconda3\\lib\\site-packages (from scipy) (1.22.3)\n"
     ]
    }
   ],
   "source": [
    "import sys\n",
    "\n",
    "# run this cell to install numpy\n",
    "!{sys.executable} -m pip install numpy\n",
    "\n",
    "# run this cell to install scipy\n",
    "!{sys.executable} -m pip install scipy"
   ]
  },
  {
   "cell_type": "code",
   "execution_count": 12,
   "id": "6010f7e8",
   "metadata": {},
   "outputs": [],
   "source": [
    "import numpy as np\n",
    "\n",
    "# Membuat Array di Numpy\n",
    "L=np.array([3,7,1,5,8,2,7])"
   ]
  },
  {
   "cell_type": "markdown",
   "id": "9526718e",
   "metadata": {},
   "source": [
    "# Mean"
   ]
  },
  {
   "cell_type": "code",
   "execution_count": 13,
   "id": "87e806df",
   "metadata": {},
   "outputs": [
    {
     "name": "stdout",
     "output_type": "stream",
     "text": [
      "Data: [3 7 1 5 8 2 7]\n",
      "Hasil Mean adalah: 4.714285714285714\n"
     ]
    }
   ],
   "source": [
    "# menghitung nilai mean menggunakan numpy\n",
    "print(\"Data:\",L)\n",
    "print(\"Hasil Mean adalah:\",np.mean(L))"
   ]
  },
  {
   "cell_type": "markdown",
   "id": "3ebfddc7",
   "metadata": {},
   "source": [
    "# Median"
   ]
  },
  {
   "cell_type": "code",
   "execution_count": 14,
   "id": "594bc056",
   "metadata": {},
   "outputs": [
    {
     "name": "stdout",
     "output_type": "stream",
     "text": [
      "Data: [3 7 1 5 8 2 7]\n",
      "Nilai Mediannya: 5.0\n"
     ]
    }
   ],
   "source": [
    "# Mencari nilai Median dari L\n",
    "print(\"Data:\",L)\n",
    "print(\"Nilai Mediannya:\",np.median(L))"
   ]
  },
  {
   "cell_type": "markdown",
   "id": "0104f0ef",
   "metadata": {},
   "source": [
    "# Modus"
   ]
  },
  {
   "cell_type": "code",
   "execution_count": 15,
   "id": "afbb9e9b",
   "metadata": {},
   "outputs": [
    {
     "name": "stdout",
     "output_type": "stream",
     "text": [
      "Data [3 7 1 5 8 2 7]\n",
      "Mode numpy: 7\n",
      "Mode scipy: ModeResult(mode=array([7]), count=array([2]))\n"
     ]
    }
   ],
   "source": [
    "# fungsi ini digunakan untuk menyimpan angka yg unik\n",
    "\n",
    "print(\"Data\",L)\n",
    "vals,counts = np.unique(L, return_counts=True)\n",
    "index = np.argmax(counts)\n",
    "print(\"Mode numpy:\",vals[index])\n",
    "\n",
    "\n",
    "# Finding Mode using Scipy\n",
    "\n",
    "from scipy import stats\n",
    "print(\"Mode scipy:\",stats.mode(L))"
   ]
  },
  {
   "cell_type": "markdown",
   "id": "2a688336",
   "metadata": {},
   "source": [
    "# Range"
   ]
  },
  {
   "cell_type": "code",
   "execution_count": 16,
   "id": "2b2ba345",
   "metadata": {},
   "outputs": [
    {
     "name": "stdout",
     "output_type": "stream",
     "text": [
      "Data  [3 7 1 5 8 2 7]\n",
      "Range:  7\n"
     ]
    }
   ],
   "source": [
    "# Menghitung Range\n",
    "print(\"Data \",L)\n",
    "print(\"Range: \",L.max()-L.min())"
   ]
  },
  {
   "cell_type": "markdown",
   "id": "98fc5168",
   "metadata": {},
   "source": [
    "# Quartil dan Interquatil Range"
   ]
  },
  {
   "cell_type": "code",
   "execution_count": 17,
   "id": "cfd8f116",
   "metadata": {},
   "outputs": [
    {
     "name": "stdout",
     "output_type": "stream",
     "text": [
      "Data: [29 15  3  7 11  1  4 22]\n",
      "\n",
      "Nilai dari Quartile 1: 3.5\n",
      "\n",
      "Nilai dari Quartile 2: 9.0\n",
      "\n",
      "Nilai dari Quartile 3: 18.5\n",
      "\n",
      "Interquartile Range 15.0\n"
     ]
    },
    {
     "name": "stderr",
     "output_type": "stream",
     "text": [
      "C:\\Users\\MULAND~1\\AppData\\Local\\Temp/ipykernel_8796/3498671847.py:6: DeprecationWarning: the `interpolation=` argument to quantile was renamed to `method=`, which has additional options.\n",
      "Users of the modes 'nearest', 'lower', 'higher', or 'midpoint' are encouraged to review the method they. (Deprecated NumPy 1.22)\n",
      "  Q1 = np.quantile(dt, .25, interpolation = 'midpoint')\n",
      "C:\\Users\\MULAND~1\\AppData\\Local\\Temp/ipykernel_8796/3498671847.py:10: DeprecationWarning: the `interpolation=` argument to quantile was renamed to `method=`, which has additional options.\n",
      "Users of the modes 'nearest', 'lower', 'higher', or 'midpoint' are encouraged to review the method they. (Deprecated NumPy 1.22)\n",
      "  Q2 = np.quantile(dt, .50, interpolation = 'midpoint')\n",
      "C:\\Users\\MULAND~1\\AppData\\Local\\Temp/ipykernel_8796/3498671847.py:14: DeprecationWarning: the `interpolation=` argument to quantile was renamed to `method=`, which has additional options.\n",
      "Users of the modes 'nearest', 'lower', 'higher', or 'midpoint' are encouraged to review the method they. (Deprecated NumPy 1.22)\n",
      "  Q3 = np.quantile(dt, .75, interpolation = 'midpoint')\n"
     ]
    }
   ],
   "source": [
    "# Mendefinisikan Data\n",
    "dt=np.array([29,15,3,7,11,1,4,22])\n",
    "print(\"Data:\",dt)\n",
    "\n",
    "# First quartile (Q1)\n",
    "Q1 = np.quantile(dt, .25, interpolation = 'midpoint')\n",
    "print(\"\\nNilai dari Quartile 1:\",Q1)\n",
    " \n",
    "# Second quartile (Q2)\n",
    "Q2 = np.quantile(dt, .50, interpolation = 'midpoint')\n",
    "print(\"\\nNilai dari Quartile 2:\",Q2)\n",
    "\n",
    "# Third quartile (Q3)\n",
    "Q3 = np.quantile(dt, .75, interpolation = 'midpoint')\n",
    "print(\"\\nNilai dari Quartile 3:\",Q3)\n",
    "\n",
    "# Interquaritle range (IQR)\n",
    "IQR = Q3 - Q1\n",
    "print(\"\\nInterquartile Range\",IQR)"
   ]
  },
  {
   "cell_type": "markdown",
   "id": "05eb82aa",
   "metadata": {},
   "source": [
    "# Persentil"
   ]
  },
  {
   "cell_type": "code",
   "execution_count": 19,
   "id": "c130409a",
   "metadata": {},
   "outputs": [
    {
     "name": "stdout",
     "output_type": "stream",
     "text": [
      "Data: [29 15  3  7 11  1  4 22]\n",
      "20th Percentile: 3.4\n"
     ]
    }
   ],
   "source": [
    "print(\"Data:\",dt)\n",
    "percentile_20 = np.percentile(dt,20)\n",
    "print(\"20th Percentile:\",round(percentile_20,2))"
   ]
  },
  {
   "cell_type": "markdown",
   "id": "0288c211",
   "metadata": {},
   "source": [
    "# Varians dan Standar Deviasi"
   ]
  },
  {
   "cell_type": "code",
   "execution_count": 21,
   "id": "fc388d7e",
   "metadata": {},
   "outputs": [
    {
     "name": "stdout",
     "output_type": "stream",
     "text": [
      "Data [29 15  3  7 11  1  4 22]\n",
      "Nilai dari Varains: 98.28571428571429\n",
      "Nilai Standard Deviation: 9.273618495495704\n",
      "Nilai Standard Deviation: 9.913915184512842\n"
     ]
    }
   ],
   "source": [
    "import numpy as np\n",
    "\n",
    "dt=np.array([29,15,3,7,11,1,4,22])\n",
    "\n",
    "print(\"Data\",dt)\n",
    "\n",
    "'''\n",
    "    \"Delta Degrees of Freedom\": the divisor used in the calculation is\n",
    "    ``N - ddof``, where ``N`` represents the number of elements. By\n",
    "    default `ddof` is zero.\n",
    "'''\n",
    "print(\"Nilai dari Varains:\",np.var(dt,ddof=1))\n",
    "print(\"Nilai Standard Deviation:\",np.std(dt,ddof=0)) # populasi\n",
    "print(\"Nilai import numpy as np"
   ]
  },
  {
   "cell_type": "code",
   "execution_count": 24,
   "id": "0195af10",
   "metadata": {},
   "outputs": [
    {
     "name": "stdout",
     "output_type": "stream",
     "text": [
      "Nilai rata-rata dari J yaitu:  27.4\n",
      "Nilai rata-rata dari K yaitu : 49\n",
      "Nilai Varians J : 370.64\n",
      "Nilai Standart Deviasi J:  19.252012881774206\n",
      "Nilai Standart Deviasi K:  17.535994728304154\n"
     ]
    }
   ],
   "source": [
    "import statistics\n",
    "j = [14,52,6,32,64,47,12,9,18,20]\n",
    "k = [5,30,48,12,54,22,36,35,7,9]\n",
    "\n",
    "# mean\n",
    "print(\"Nilai rata-rata dari J yaitu: \", np.mean(j))\n",
    "\n",
    "# range\n",
    "print(\"Nilai rata-rata dari K yaitu :\", np.max(k) - np.min(k))\n",
    "\n",
    "# varians\n",
    "print(\"Nilai Varians J :\", np.var(j))\n",
    "\n",
    "# Standart Deviasi\n",
    "print(\"Nilai Standart Deviasi J: \", np.std(j)) # std populasi\n",
    "print(\"Nilai Standart Deviasi K: \", statistics.stdev(k)) # std sampel, bisa pakai pst.dev untuk populasi"
   ]
  },
  {
   "cell_type": "markdown",
   "id": "0323156b",
   "metadata": {},
   "source": [
    "# Kovarians"
   ]
  },
  {
   "cell_type": "code",
   "execution_count": 25,
   "id": "c72bf755",
   "metadata": {},
   "outputs": [
    {
     "name": "stdout",
     "output_type": "stream",
     "text": [
      "[ 1  3  5  7 11  9 13 17 15]\n",
      "[ 2  4  6  8 12 10 14 20 18]\n",
      "\n",
      "Covariance  33.5\n"
     ]
    }
   ],
   "source": [
    "j = np.array([1,3,5,7,11,9,13,17,15])\n",
    "print(j)\n",
    "k = np.array([2,4,6,8,12,10,14,20,18])\n",
    "print(k)\n",
    "\n",
    "print(\"\\nCovariance \",np.cov(j,k)[0,1])"
   ]
  },
  {
   "cell_type": "markdown",
   "id": "34303dc3",
   "metadata": {},
   "source": [
    "# Korelasi"
   ]
  },
  {
   "cell_type": "code",
   "execution_count": 26,
   "id": "4caf61c3",
   "metadata": {},
   "outputs": [
    {
     "name": "stdout",
     "output_type": "stream",
     "text": [
      "[[1.         0.99509828]\n",
      " [0.99509828 1.        ]]\n"
     ]
    }
   ],
   "source": [
    "# mengembalikan matriks korelasi koefisie\n",
    "print(np.corrcoef(j,k))"
   ]
  },
  {
   "cell_type": "markdown",
   "id": "13109178",
   "metadata": {},
   "source": [
    "# Kurtosis"
   ]
  },
  {
   "cell_type": "code",
   "execution_count": 27,
   "id": "7aff2bc6",
   "metadata": {},
   "outputs": [
    {
     "name": "stdout",
     "output_type": "stream",
     "text": [
      "Kurtosis -1.2002400240024003\n"
     ]
    }
   ],
   "source": [
    "dt1=np.linspace(-5,5,100)\n",
    "print(\"Kurtosis\",stats.kurtosis(dt1))"
   ]
  },
  {
   "cell_type": "markdown",
   "id": "9bc7cab5",
   "metadata": {},
   "source": [
    "# Eigen Vektor"
   ]
  },
  {
   "cell_type": "code",
   "execution_count": 28,
   "id": "8247fda8",
   "metadata": {},
   "outputs": [
    {
     "data": {
      "text/plain": [
       "matrix([[5, 5, 1],\n",
       "        [6, 2, 4],\n",
       "        [7, 2, 9]])"
      ]
     },
     "execution_count": 28,
     "metadata": {},
     "output_type": "execute_result"
    }
   ],
   "source": [
    "import numpy as np\n",
    "b = np.matrix([[5,5,1],[6,2,4],[7,2,9]])\n",
    "b"
   ]
  },
  {
   "cell_type": "code",
   "execution_count": 33,
   "id": "052b672e",
   "metadata": {},
   "outputs": [
    {
     "data": {
      "text/plain": [
       "array([[1., 0., 0.],\n",
       "       [0., 1., 0.],\n",
       "       [0., 0., 1.]])"
      ]
     },
     "execution_count": 33,
     "metadata": {},
     "output_type": "execute_result"
    }
   ],
   "source": [
    "a = np.eye(3)\n",
    "a"
   ]
  },
  {
   "cell_type": "code",
   "execution_count": 34,
   "id": "40b637c1",
   "metadata": {},
   "outputs": [
    {
     "data": {
      "text/plain": [
       "(array([13.46918929, -1.50753879,  4.03834949]),\n",
       " matrix([[ 0.37379875,  0.61264874, -0.56680661],\n",
       "         [ 0.4736659 , -0.74406416, -0.05538347],\n",
       "         [ 0.79744285, -0.26651463,  0.82198719]]))"
      ]
     },
     "execution_count": 34,
     "metadata": {},
     "output_type": "execute_result"
    }
   ],
   "source": [
    "# membuat matriks baru yang merupakan transformasi linier dari x\n",
    "\n",
    "c = b + 45*a\n",
    "np.linalg.eig(b)"
   ]
  },
  {
   "cell_type": "code",
   "execution_count": 35,
   "id": "6831a71c",
   "metadata": {},
   "outputs": [
    {
     "data": {
      "text/plain": [
       "(array([58.46918929, 43.49246121, 49.03834949]),\n",
       " matrix([[ 0.37379875,  0.61264874, -0.56680661],\n",
       "         [ 0.4736659 , -0.74406416, -0.05538347],\n",
       "         [ 0.79744285, -0.26651463,  0.82198719]]))"
      ]
     },
     "execution_count": 35,
     "metadata": {},
     "output_type": "execute_result"
    }
   ],
   "source": [
    "np.linalg.eig(c)"
   ]
  }
 ],
 "metadata": {
  "kernelspec": {
   "display_name": "Python 3 (ipykernel)",
   "language": "python",
   "name": "python3"
  },
  "language_info": {
   "codemirror_mode": {
    "name": "ipython",
    "version": 3
   },
   "file_extension": ".py",
   "mimetype": "text/x-python",
   "name": "python",
   "nbconvert_exporter": "python",
   "pygments_lexer": "ipython3",
   "version": "3.9.7"
  }
 },
 "nbformat": 4,
 "nbformat_minor": 5
}
