{
 "cells": [
  {
   "cell_type": "markdown",
   "id": "5b16248c",
   "metadata": {},
   "source": [
    "# Buatlah 3 OOP beserta turunannya dari objek sekitar, buat ulang seperti yang diatas (encapsulation, abstaction, inheritance, polymorphism)"
   ]
  },
  {
   "cell_type": "markdown",
   "id": "d3f9d498",
   "metadata": {},
   "source": [
    "    Santi Oktaviani\n",
    "    Ragnarok"
   ]
  },
  {
   "cell_type": "code",
   "execution_count": 21,
   "id": "2d0dd081",
   "metadata": {},
   "outputs": [],
   "source": [
    "import oop_module as om"
   ]
  },
  {
   "cell_type": "markdown",
   "id": "7410e60f",
   "metadata": {},
   "source": [
    "# Encapsulation"
   ]
  },
  {
   "cell_type": "code",
   "execution_count": 1,
   "id": "1c98af50",
   "metadata": {},
   "outputs": [
    {
     "name": "stdout",
     "output_type": "stream",
     "text": [
      "kategori: Alat Elektronik \n",
      "merk\t: Apple \n",
      "tipe\t: Ipad Mini 6 \n",
      "warna\t: purple\n",
      "Ini adalah Alat Elektronik \n",
      "\n",
      "kategori: Alat Transportasi \n",
      "merk\t: Polygon \n",
      "tipe\t: Xtrada 5 \n",
      "warna\t: Green Black\n",
      "Ini adalah Alat Transportasi \n",
      "\n"
     ]
    }
   ],
   "source": [
    "class Kamera(object):\n",
    "    \n",
    "    kategori_kamera = \"\"\n",
    "    def __init__(self, input_kategori, input_merk, input_tipe, input_warna):\n",
    "        self.kategori = input_kategori\n",
    "        self.merk = input_merk\n",
    "        self.tipe = input_tipe\n",
    "        self.warna = input_warna\n",
    "        Kamera.nama_kamera = input_kategori\n",
    "\n",
    "    def potret(self):\n",
    "        print(\"Ini adalah\", self.kategori,'\\n')\n",
    "\n",
    "    def info(self):\n",
    "        print(f\"kategori: {self.kategori} \\nmerk\\t: {self.merk} \\ntipe\\t: {self.tipe} \\nwarna\\t: {self.warna}\") \n",
    "\n",
    "\n",
    "kamera1 = Kamera(\"Alat Elektronik\", \"Apple\", \"Ipad Mini 6\", \"purple\")\n",
    "kamera1.info()\n",
    "kamera1.potret()\n",
    "\n",
    "kamera2 = Kamera(\"Alat Transportasi\", \"Polygon\", \"Xtrada 5\", \"Green Black\")\n",
    "kamera2.info()\n",
    "kamera2.potret()"
   ]
  },
  {
   "cell_type": "markdown",
   "id": "5f4ea014",
   "metadata": {},
   "source": [
    "# Inheritence"
   ]
  },
  {
   "cell_type": "code",
   "execution_count": 2,
   "id": "fa016957",
   "metadata": {},
   "outputs": [],
   "source": [
    "class Benda(object):\n",
    "    def __init__(self, kategori, merk, tipe, warna, harga, warranty):\n",
    "        self.kategori = kategori\n",
    "        self.merk = merk\n",
    "        self.tipe = tipe\n",
    "        self.warna = warna\n",
    "\n",
    "    def ulasan(self, kalimat):\n",
    "        for x in range(kalimat):\n",
    "            print(\"bangus banget loh\")\n",
    "\n",
    "    def info(self):\n",
    "      print(f\"kategori: {self.kategori} \\nmerk\\t: {self.merk} \\ntipe\\t: {self.tipe} \\nwarna\\t: {self.warna}\")"
   ]
  },
  {
   "cell_type": "code",
   "execution_count": 4,
   "id": "8e8d46d8",
   "metadata": {},
   "outputs": [
    {
     "name": "stdout",
     "output_type": "stream",
     "text": [
      "kategori: Benda Elektronik \n",
      "merk\t: Epson \n",
      "tipe\t: L805 \n",
      "warna\t: Hitam\n",
      "harga\t: 1.810.000, \n",
      "warranty: True\n",
      "bangus banget loh\n",
      "bangus banget loh\n",
      "wow...murah banget...\n"
     ]
    }
   ],
   "source": [
    "class Printer(Benda):\n",
    "    def __init__(self, kategori, merk, tipe, warna, harga, warranty):\n",
    "        super().__init__(kategori, merk, tipe, warna, harga, warranty)\n",
    "        self.harga = harga\n",
    "        self.warranty = warranty\n",
    "\n",
    "    def cetak(self):\n",
    "        super().ulasan(2)\n",
    "        print(\"wow...murah banget...\")\n",
    "\n",
    "    def info_printer(self):\n",
    "        super().info()\n",
    "        print(f\"harga\\t: {self.harga}, \\nwarranty: {self.warranty}\")\n",
    "\n",
    "Printer1 = Printer(\"Benda Elektronik\", \"Epson\", \"L805\", \"Hitam\", \"1.810.000\", True)\n",
    "Printer1.info_printer()\n",
    "Printer1.cetak()"
   ]
  },
  {
   "cell_type": "markdown",
   "id": "3ac31b54",
   "metadata": {},
   "source": [
    "# Abstraction"
   ]
  },
  {
   "cell_type": "code",
   "execution_count": 7,
   "id": "e61f5e2c",
   "metadata": {},
   "outputs": [],
   "source": [
    "from abc import abstractmethod, ABC"
   ]
  },
  {
   "cell_type": "code",
   "execution_count": 9,
   "id": "aa4a31af",
   "metadata": {},
   "outputs": [],
   "source": [
    "class Tumbuhan(ABC):\n",
    "    \n",
    "    @abstractmethod\n",
    "    def profil(self, input_nama_latin, asal, iklim):\n",
    "        pass\n",
    "    def manfaat(self, input_manfaat):\n",
    "        pass\n",
    "    def spesies(self, input_spesies):\n",
    "        pass\n",
    "    def info(self):\n",
    "        pass"
   ]
  },
  {
   "cell_type": "code",
   "execution_count": 10,
   "id": "d1661101",
   "metadata": {},
   "outputs": [
    {
     "name": "stdout",
     "output_type": "stream",
     "text": [
      "nama latin\t: lavandula afficinalis syn. L. Angustifolia \n",
      "asal\t\t: laut Mediterania dan laut tengah \n",
      "iklim\t\t: kering \n",
      "manfaat\t\t: membantu mengurangi stres \n",
      "spesies\t\t: Lavandula antineae\n"
     ]
    }
   ],
   "source": [
    "class Lavender(Tumbuhan):\n",
    "    bunga = 'lavender'\n",
    "    def profil(self, nama_latin, asal, iklim):\n",
    "        self.nama_latin = nama_latin\n",
    "        self.asal = asal\n",
    "        self.iklim = iklim\n",
    "    \n",
    "    def manfaat(self, manfaat):\n",
    "        self.manfaat = manfaat\n",
    "    \n",
    "    def spesies(self, spesies):\n",
    "        self.spesies = spesies\n",
    "\n",
    "    def info(self):\n",
    "        print(f\"nama latin\\t: {self.nama_latin} \\nasal\\t\\t: {self.asal} \\niklim\\t\\t: {self.iklim} \\nmanfaat\\t\\t: {self.manfaat} \\nspesies\\t\\t: {self.spesies}\")\n",
    "\n",
    "lavender1 = Lavender()\n",
    "lavender1.profil('lavandula afficinalis syn. L. Angustifolia', 'laut Mediterania dan laut tengah', 'kering')\n",
    "lavender1.manfaat('membantu mengurangi stres')\n",
    "lavender1.spesies('Lavandula antineae')\n",
    "lavender1.info()"
   ]
  },
  {
   "cell_type": "code",
   "execution_count": 11,
   "id": "5f7c9b0f",
   "metadata": {},
   "outputs": [
    {
     "name": "stdout",
     "output_type": "stream",
     "text": [
      "nama latin\t: Aloe vera \n",
      "asal\t\t: Jazirah Arab \n",
      "iklim\t\t: tropis, semi-tropis, dan kering \n",
      "manfaat\t\t: melembabkan kulit \n",
      "spesies\t\t: Aloe vera\n"
     ]
    }
   ],
   "source": [
    "class AloeVera(Tumbuhan):\n",
    "    tumbuhan = 'lidah_buaya'\n",
    "    def profil(self, nama_latin, asal, iklim):\n",
    "        self.nama_latin = nama_latin\n",
    "        self.asal = asal\n",
    "        self.iklim = iklim\n",
    "    \n",
    "    def manfaat(self, manfaat):\n",
    "        self.manfaat = manfaat\n",
    "    \n",
    "    def spesies(self, spesies):\n",
    "        self.spesies = spesies\n",
    "\n",
    "    def info(self):\n",
    "        print(f\"nama latin\\t: {self.nama_latin} \\nasal\\t\\t: {self.asal} \\niklim\\t\\t: {self.iklim} \\nmanfaat\\t\\t: {self.manfaat} \\nspesies\\t\\t: {self.spesies}\")\n",
    "\n",
    "av1 = AloeVera()\n",
    "av1.profil('Aloe vera', 'Jazirah Arab', 'tropis, semi-tropis, dan kering')\n",
    "av1.manfaat('melembabkan kulit')\n",
    "av1.spesies('Aloe vera')\n",
    "av1.info()"
   ]
  },
  {
   "cell_type": "markdown",
   "id": "c47a6e85",
   "metadata": {},
   "source": [
    "# Polymorhism"
   ]
  },
  {
   "cell_type": "code",
   "execution_count": 13,
   "id": "3998a21c",
   "metadata": {},
   "outputs": [
    {
     "name": "stdout",
     "output_type": "stream",
     "text": [
      "kategori: Alat Musik \n",
      "merk\t: Yamaha \n",
      "tipe\t: Grand Piano GB1K PE \n",
      "warna\t: hitam\n",
      "berat\t: 288 kilogram, \n",
      "akustik\t: True\n",
      "bangus banget loh\n",
      "bangus banget loh\n",
      "do re mi fa sol la si do\n",
      "\n",
      "kategori: Alat Transportasi \n",
      "merk\t: Honda \n",
      "tipe\t: scoopy fashion \n",
      "warna\t: Putih\n",
      "bangus banget loh\n",
      "tin...tin\n"
     ]
    }
   ],
   "source": [
    "class Benda(object):\n",
    "    def __init__(self, kategori, merk, tipe, warna):\n",
    "        self.kategori = kategori\n",
    "        self.merk = merk\n",
    "        self.tipe = tipe\n",
    "        self.warna = warna\n",
    "\n",
    "    def ulasan(self, kalimat):\n",
    "        for x in range(kalimat):\n",
    "            print(\"bangus banget loh\")\n",
    "\n",
    "    def info(self):\n",
    "      print(f\"kategori: {self.kategori} \\nmerk\\t: {self.merk} \\ntipe\\t: {self.tipe} \\nwarna\\t: {self.warna}\")\n",
    "\n",
    "\n",
    "class Piano(Benda):\n",
    "    def __init__(self, kategori, merk, tipe, warna, berat, akustik):\n",
    "        super().__init__(kategori, merk, tipe, warna)\n",
    "        self.berat = berat\n",
    "        self.akustik = akustik\n",
    "\n",
    "    def tekan(self):\n",
    "        super().ulasan(2)\n",
    "        print(\"do re mi fa sol la si do\\n\")\n",
    "\n",
    "    def info_piano(self):\n",
    "        print(f\"berat\\t: {self.berat}, \\nakustik\\t: {self.akustik}\")\n",
    "\n",
    "class Motor(Benda):\n",
    "  def __init__(self, kategori, merk, tipe, warna, harga, matic):\n",
    "    super().__init__(kategori, merk, tipe, warna)\n",
    "    self.harga = harga\n",
    "    self.matic = matic\n",
    "  \n",
    "  def suara(self, bunyi):\n",
    "    if bunyi >=3 :\n",
    "      print(\"\\nngengg....\")\n",
    "    else:\n",
    "      print(\"tin...tin\")\n",
    "\n",
    "piano1 = Piano(\"Alat Musik\", \"Yamaha\", \"Grand Piano GB1K PE\", \"hitam\", \"288 kilogram\", True)\n",
    "\n",
    "piano1.info()\n",
    "piano1.info_piano()\n",
    "piano1.tekan()\n",
    "\n",
    "\n",
    "motor1 = Motor(\"Alat Transportasi\", \"Honda\", \"scoopy fashion\", \"Putih\", \"21.052.000\", True)\n",
    "\n",
    "motor1.info()\n",
    "motor1.ulasan(1)\n",
    "motor1.suara(2)"
   ]
  },
  {
   "cell_type": "code",
   "execution_count": null,
   "id": "8f37d81c",
   "metadata": {},
   "outputs": [],
   "source": []
  },
  {
   "cell_type": "code",
   "execution_count": null,
   "id": "49345f75",
   "metadata": {},
   "outputs": [],
   "source": []
  }
 ],
 "metadata": {
  "kernelspec": {
   "display_name": "Python 3 (ipykernel)",
   "language": "python",
   "name": "python3"
  },
  "language_info": {
   "codemirror_mode": {
    "name": "ipython",
    "version": 3
   },
   "file_extension": ".py",
   "mimetype": "text/x-python",
   "name": "python",
   "nbconvert_exporter": "python",
   "pygments_lexer": "ipython3",
   "version": "3.9.7"
  }
 },
 "nbformat": 4,
 "nbformat_minor": 5
}
