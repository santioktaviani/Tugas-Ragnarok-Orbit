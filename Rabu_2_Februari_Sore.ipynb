{
 "cells": [
  {
   "cell_type": "code",
   "execution_count": 1,
   "id": "77cd8ebd",
   "metadata": {},
   "outputs": [
    {
     "name": "stdout",
     "output_type": "stream",
     "text": [
      "Masukkan nilai p:10\n",
      "Masukkan nilai q:2\n",
      "True\n"
     ]
    }
   ],
   "source": [
    "#nomor 1\n",
    "\n",
    "def tes_bagi(p,q):\n",
    "    if (p%q == 0):\n",
    "      return True\n",
    "    else:\n",
    "      return False\n",
    "\n",
    "p = int(input(\"Masukkan nilai p:\"))\n",
    "\n",
    "q = int(input(\"Masukkan nilai q:\"))\n",
    "\n",
    "print(tes_bagi(p,q))"
   ]
  },
  {
   "cell_type": "code",
   "execution_count": 10,
   "id": "b07bf4cd",
   "metadata": {},
   "outputs": [
    {
     "name": "stdout",
     "output_type": "stream",
     "text": [
      "* * * * MENU * * * *\n",
      "1. Soup and Salad\n",
      "2. Pasta with Meat Sauce\n",
      "3. Chef's special\n",
      "Which number would you like to order? 1\n",
      "Jumlah porsi yg ingin dipesan: 2\n",
      "2 Soup and Salad coming right up!\n"
     ]
    }
   ],
   "source": [
    "#nomor 2\n",
    "\n",
    "def menu():\n",
    "    global jml\n",
    "    global menus\n",
    "    print(\"* * * * MENU * * * *\")\n",
    "    print(\"1. Soup and Salad\")\n",
    "    print(\"2. Pasta with Meat Sauce\")\n",
    "    print(\"3. Chef's special\")\n",
    "menu()\n",
    "pilihan =int(input(\"Which number would you like to order? \"))\n",
    "jml = int(input(\"Jumlah porsi yg ingin dipesan: \"))\n",
    "\n",
    "if pilihan == 1:\n",
    "  menus=(\"Soup and Salad\")\n",
    "  print(jml,menus,\"coming right up!\")\n",
    "\n",
    "elif pilihan == 2:\n",
    "  menus=(\"Pasta with Meat Sauce\")\n",
    "  print(jml,menus,\"coming right up!\")\n",
    "\n",
    "elif pilihan == 3:\n",
    "  menus(\"Chef's special\")\n",
    "  print(jml,menus,\"coming right up!\")\n",
    "        \n",
    "else:\n",
    "  print(\"Sorry, that is not a valid choice\")"
   ]
  },
  {
   "cell_type": "code",
   "execution_count": 8,
   "id": "abd5c13b",
   "metadata": {},
   "outputs": [
    {
     "name": "stdout",
     "output_type": "stream",
     "text": [
      "Bilangan acak yang dihasilkan adalah: 2\n",
      "Apakah habis dibagi 3?: False\n",
      "Bilangan acak yang dihasilkan adalah: 1\n",
      "Apakah habis dibagi 3?: False\n",
      "Bilangan acak yang dihasilkan adalah: 5\n",
      "Apakah habis dibagi 3?: False\n",
      "Bilangan acak yang dihasilkan adalah: 6\n",
      "Apakah habis dibagi 3?: True\n",
      "Bilangan acak yang dihasilkan adalah: 4\n",
      "Apakah habis dibagi 3?: False\n",
      "Bilangan acak yang dihasilkan adalah: 3\n",
      "Apakah habis dibagi 3?: True\n"
     ]
    }
   ],
   "source": [
    "#nomor 3\n",
    "\n",
    "import random\n",
    "def rand_divis_3():\n",
    "    blgn = random.randint(0, 6)\n",
    "    print(\"Bilangan acak yang dihasilkan adalah: \" + str(blgn))\n",
    "    print(\"Apakah habis dibagi 3?: \" + str(blgn%3 == 0))\n",
    "\n",
    "for i in range(0, 6):\n",
    "    rand_divis_3()"
   ]
  },
  {
   "cell_type": "code",
   "execution_count": 2,
   "id": "ad0a09b5",
   "metadata": {},
   "outputs": [
    {
     "ename": "IndentationError",
     "evalue": "unexpected indent (Temp/ipykernel_30356/1401982537.py, line 3)",
     "output_type": "error",
     "traceback": [
      "\u001b[1;36m  File \u001b[1;32m\"C:\\Users\\MULAND~1\\AppData\\Local\\Temp/ipykernel_30356/1401982537.py\"\u001b[1;36m, line \u001b[1;32m3\u001b[0m\n\u001b[1;33m    \"\"\"\"\"\"\u001b[0m\n\u001b[1;37m    ^\u001b[0m\n\u001b[1;31mIndentationError\u001b[0m\u001b[1;31m:\u001b[0m unexpected indent\n"
     ]
    }
   ],
   "source": [
    "#nomor 4\n",
    "\n",
    "    \"\"\"\"\"\"\n",
    "    Fungsi ini akan berisi sebuah operasi untuk mengecek apakah dua buah variabel tidak sama, jika tidak sama\n",
    "    maka akan mereturn True, jika sama akan mengembalikan nilai False.\\ \n",
    "    \"\"\"\"\"\"\n",
    "    if (a == b):\n",
    "        return False\n",
    "    else:\n",
    "        return True\n",
    "    \n",
    "    a = 10\n",
    "    b = 15\n",
    "\n",
    "    if (check_tidak_sama(a,b)):\n",
    "        print(\"A dan B tidak sama\")\n",
    "    else:\n",
    "        print(\"A dan B sama\")"
   ]
  },
  {
   "cell_type": "code",
   "execution_count": 5,
   "id": "33cd54b1",
   "metadata": {},
   "outputs": [
    {
     "name": "stdout",
     "output_type": "stream",
     "text": [
      "Enter your name: santi\n",
      "Your name is santi\n"
     ]
    }
   ],
   "source": [
    "#nomor 5\n",
    "\n",
    "def ask_name():\n",
    "    name = input(\"Enter your name: \")\n",
    "    print(\"Your name is \" +name)\n",
    "ask_name()"
   ]
  }
 ],
 "metadata": {
  "kernelspec": {
   "display_name": "Python 3 (ipykernel)",
   "language": "python",
   "name": "python3"
  },
  "language_info": {
   "codemirror_mode": {
    "name": "ipython",
    "version": 3
   },
   "file_extension": ".py",
   "mimetype": "text/x-python",
   "name": "python",
   "nbconvert_exporter": "python",
   "pygments_lexer": "ipython3",
   "version": "3.9.7"
  }
 },
 "nbformat": 4,
 "nbformat_minor": 5
}
