{
  "nbformat": 4,
  "nbformat_minor": 0,
  "metadata": {
    "colab": {
      "name": "Selasa_8_Maret_2022_Sesi Sore.ipynb",
      "provenance": []
    },
    "kernelspec": {
      "name": "python3",
      "display_name": "Python 3"
    },
    "language_info": {
      "name": "python"
    }
  },
  "cells": [
    {
      "cell_type": "markdown",
      "source": [
        "# Operasi Matematika & Numpy"
      ],
      "metadata": {
        "id": "i8ykq0P47PbU"
      }
    },
    {
      "cell_type": "markdown",
      "source": [
        "Santi Oktaviani"
      ],
      "metadata": {
        "id": "Y9M8Wj717Soa"
      }
    },
    {
      "cell_type": "code",
      "execution_count": 1,
      "metadata": {
        "colab": {
          "base_uri": "https://localhost:8080/"
        },
        "id": "BQwEP4aT7Fk4",
        "outputId": "e0e8b11b-9a12-4fd1-c911-6a8341d37d99"
      },
      "outputs": [
        {
          "output_type": "stream",
          "name": "stdout",
          "text": [
            "Requirement already satisfied: numpy in /usr/local/lib/python3.7/dist-packages (1.21.5)\n"
          ]
        }
      ],
      "source": [
        "pip install --upgrade numpy"
      ]
    },
    {
      "cell_type": "code",
      "source": [
        "import numpy as np"
      ],
      "metadata": {
        "id": "Fm96z8Ia7YBR"
      },
      "execution_count": 2,
      "outputs": []
    },
    {
      "cell_type": "markdown",
      "source": [
        "\n",
        "Pengenalan array"
      ],
      "metadata": {
        "id": "NO0eEpkI7qDA"
      }
    },
    {
      "cell_type": "markdown",
      "source": [
        "###Latihan-2 (2D array)"
      ],
      "metadata": {
        "id": "dfSt5UiB71Nq"
      }
    },
    {
      "cell_type": "code",
      "source": [
        "#2D Array (Matriks)\n",
        "A = np.array([[1, 2, 3], [4, 5, 6], [7, 8, 9]])\n",
        "print(A)"
      ],
      "metadata": {
        "colab": {
          "base_uri": "https://localhost:8080/"
        },
        "id": "9jCQbX3x7pXn",
        "outputId": "bd96e5e9-a405-45d7-f80e-d1f4a8e1656c"
      },
      "execution_count": 3,
      "outputs": [
        {
          "output_type": "stream",
          "name": "stdout",
          "text": [
            "[[1 2 3]\n",
            " [4 5 6]\n",
            " [7 8 9]]\n"
          ]
        }
      ]
    },
    {
      "cell_type": "code",
      "source": [
        "#Lengkapi kodingan berikut\n",
        "print('banyaknya entry = ', A.size)\n",
        "print('dimensi array = ', A.ndim)\n",
        "print('ukuran array = ', A.shape)"
      ],
      "metadata": {
        "colab": {
          "base_uri": "https://localhost:8080/"
        },
        "id": "conD_go978cQ",
        "outputId": "f06849f3-3338-4cd8-82bd-c3ee22320290"
      },
      "execution_count": 4,
      "outputs": [
        {
          "output_type": "stream",
          "name": "stdout",
          "text": [
            "banyaknya entry =  9\n",
            "dimensi array =  2\n",
            "ukuran array =  (3, 3)\n"
          ]
        }
      ]
    },
    {
      "cell_type": "markdown",
      "source": [
        "\n",
        "###Latihan-3 (Slicing)"
      ],
      "metadata": {
        "id": "b4YeCXGJ8Dy3"
      }
    },
    {
      "cell_type": "code",
      "source": [
        "#Lengkapi kodingan berikut\n",
        "print('baris ke-3 = ', A[2])\n",
        "print('entry ke-1 & 2 baris ke-3 = ', A[2, :2])\n",
        "print('entry ke-2 & 3 kolom ke-3 = ', A[1:3, 2])"
      ],
      "metadata": {
        "colab": {
          "base_uri": "https://localhost:8080/"
        },
        "id": "JSN_iVPH8Bcf",
        "outputId": "d6d1313a-fab9-4a02-f28a-b47688a05397"
      },
      "execution_count": 5,
      "outputs": [
        {
          "output_type": "stream",
          "name": "stdout",
          "text": [
            "baris ke-3 =  [7 8 9]\n",
            "entry ke-1 & 2 baris ke-3 =  [7 8]\n",
            "entry ke-2 & 3 kolom ke-3 =  [6 9]\n"
          ]
        }
      ]
    },
    {
      "cell_type": "markdown",
      "source": [
        "output jawaban:\n",
        "baris ke-3 =  [7 8 9]\n",
        "\n",
        "entry ke-1 & 2 baris ke-3 =  [7 8]\n",
        "\n",
        "entry ke-2 & 3 kolom ke-3 =  [6 9]"
      ],
      "metadata": {
        "id": "f8mM_D3K8MLl"
      }
    },
    {
      "cell_type": "markdown",
      "source": [
        "####Latihan-4 (Operasi matriks)"
      ],
      "metadata": {
        "id": "pEXGLjQa8VD5"
      }
    },
    {
      "cell_type": "code",
      "source": [
        "A = np.array([[1, 2], [7,8]])\n",
        "B = np.array([[3, 5], [1,6]])"
      ],
      "metadata": {
        "id": "GpXOELA68JQZ"
      },
      "execution_count": 7,
      "outputs": []
    },
    {
      "cell_type": "markdown",
      "source": [
        "Hitunglah:\n",
        "2*A\n",
        "2+A\n",
        "A+B\n",
        "A-B\n",
        "determinan A\n",
        "invers dari B, simpan jadi matriks D\n",
        "transpose D\n",
        "nilai eigen dan vektor eigen dari A dan B"
      ],
      "metadata": {
        "id": "7lzBlGfR8jNj"
      }
    },
    {
      "cell_type": "code",
      "source": [
        "#Ketik Kode disini\n",
        "X = 2*A\n",
        "print(\"Hasil Perkalian 2*A adalah: \")\n",
        "print(X)\n",
        "\n",
        "X = 2+A\n",
        "print(\"\\nHasil Penjumlahan 2+A adalah: \")\n",
        "print(X)\n",
        "\n",
        "X = A+B\n",
        "print(\"\\nHasil Penjumlahan A+B adalah: \")\n",
        "print(X)\n",
        "\n",
        "X = A-B\n",
        "print(\"\\nHasil Pengurangan A-B adalah: \")\n",
        "print(X)\n",
        "\n",
        "print('\\nDeterminan matriks A', np.linalg.det(A))\n",
        "\n",
        "D = np.linalg.inv(B)\n",
        "print(\"\\nInvers Matriks B: \\n\", D)\n",
        "\n",
        "D_t = D.T\n",
        "print(\"\\nTranspose D: \\n\", D_t)\n",
        "\n"
      ],
      "metadata": {
        "colab": {
          "base_uri": "https://localhost:8080/"
        },
        "id": "NBqGkIOd8lyS",
        "outputId": "cc868f39-7d15-4ccd-a3b1-b66397f34353"
      },
      "execution_count": 8,
      "outputs": [
        {
          "output_type": "stream",
          "name": "stdout",
          "text": [
            "Hasil Perkalian 2*A adalah: \n",
            "[[ 2  4]\n",
            " [14 16]]\n",
            "\n",
            "Hasil Penjumlahan 2+A adalah: \n",
            "[[ 3  4]\n",
            " [ 9 10]]\n",
            "\n",
            "Hasil Penjumlahan A+B adalah: \n",
            "[[ 4  7]\n",
            " [ 8 14]]\n",
            "\n",
            "Hasil Pengurangan A-B adalah: \n",
            "[[-2 -3]\n",
            " [ 6  2]]\n",
            "\n",
            "Determinan matriks A -6.0\n",
            "\n",
            "Invers Matriks B: \n",
            " [[ 0.46153846 -0.38461538]\n",
            " [-0.07692308  0.23076923]]\n",
            "\n",
            "Transpose D: \n",
            " [[ 0.46153846 -0.07692308]\n",
            " [-0.38461538  0.23076923]]\n"
          ]
        }
      ]
    },
    {
      "cell_type": "code",
      "source": [
        "print('\\nnilai eigen matriks A = ', np.linalg.eig(A)[0])\n",
        "print('\\nvektor eigen matriks A = \\n', np.linalg.eig(A)[1])\n",
        "\n",
        "print('\\nnilai eigen matriks B = ', np.linalg.eig(B)[0])\n",
        "print('\\nvektor eigen matriks B = \\n', np.linalg.eig(B)[1])"
      ],
      "metadata": {
        "colab": {
          "base_uri": "https://localhost:8080/"
        },
        "id": "JPCQF7-j80C4",
        "outputId": "adeae917-17c3-4127-812d-046af8e52ac7"
      },
      "execution_count": 9,
      "outputs": [
        {
          "output_type": "stream",
          "name": "stdout",
          "text": [
            "\n",
            "nilai eigen matriks A =  [-0.62347538  9.62347538]\n",
            "\n",
            "vektor eigen matriks A = \n",
            " [[-0.77640358 -0.22592838]\n",
            " [ 0.63023605 -0.97414391]]\n",
            "\n",
            "nilai eigen matriks B =  [1.8074176 7.1925824]\n",
            "\n",
            "vektor eigen matriks B = \n",
            " [[-0.97271381 -0.76626443]\n",
            " [ 0.23200828 -0.64252535]]\n"
          ]
        }
      ]
    },
    {
      "cell_type": "code",
      "source": [
        "#Tunjukkan bedanya di kodingan di bawah ini\n",
        "\n",
        "B = np.array([[3, 5], [1,6]])\n",
        "D = np.linalg.inv(B)\n",
        "\n",
        "#perkalian antar entry di B dan D\n",
        "J = B*D\n",
        "print('perkalian antar entry di B dan D= ')\n",
        "print(J)\n",
        "\n",
        "#perkalian matriks B dan D\n",
        "print('\\nperkalian matriks B dan D = \\n', np.matmul(B,D))\n",
        "\n",
        "# Perkalian antar entry di B dan D merupakan perkalian setiap variabel dikalikan setiap elemen matriks\n",
        "\n",
        "# Sedangkan, perkalian matriks B dan D merupakan hasil kali 2 matriks sesuai aturan perkalian matriks\n",
        "# di mana baris dikali dengan kolom"
      ],
      "metadata": {
        "colab": {
          "base_uri": "https://localhost:8080/"
        },
        "id": "L6m6bZQs842L",
        "outputId": "1896551b-55b7-4969-fd91-21694b9ee5d8"
      },
      "execution_count": 10,
      "outputs": [
        {
          "output_type": "stream",
          "name": "stdout",
          "text": [
            "perkalian antar entry di B dan D= \n",
            "[[ 1.38461538 -1.92307692]\n",
            " [-0.07692308  1.38461538]]\n",
            "\n",
            "perkalian matriks B dan D = \n",
            " [[ 1.00000000e+00 -1.11022302e-16]\n",
            " [ 1.11022302e-16  1.00000000e+00]]\n"
          ]
        }
      ]
    },
    {
      "cell_type": "markdown",
      "source": [
        "\n",
        "Apa perbedaan dari B*D (perkalian antar entry di B dan D) dan BD (perkalian matriks B dan D)? \n",
        "\n",
        "output jawaban: \n",
        "perkalian entry = [[ 1.38461538, -1.92307692], [-0.07692308, 1.38461538]]\n",
        "perkalian matriks = [[ 1.00000000e+00, -1.11022302e-16], [ 1.11022302e-16, 1.00000000e+00]]"
      ],
      "metadata": {
        "id": "1UPcgrtY867e"
      }
    }
  ]
}