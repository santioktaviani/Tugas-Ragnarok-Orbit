{
 "cells": [
  {
   "cell_type": "markdown",
   "metadata": {
    "id": "F9RmP8oJEr-8"
   },
   "source": [
    "# Operasi Matematika & Numpy"
   ]
  },
  {
   "cell_type": "markdown",
   "metadata": {},
   "source": [
    "# Santi Oktaviani"
   ]
  },
  {
   "cell_type": "code",
   "execution_count": 1,
   "metadata": {},
   "outputs": [
    {
     "name": "stdout",
     "output_type": "stream",
     "text": [
      "Requirement already satisfied: numpy in c:\\anaconda3\\lib\\site-packages (1.22.3)Note: you may need to restart the kernel to use updated packages.\n",
      "\n"
     ]
    }
   ],
   "source": [
    "pip install --upgrade numpy"
   ]
  },
  {
   "cell_type": "code",
   "execution_count": 2,
   "metadata": {
    "id": "DBVuNosPErdc"
   },
   "outputs": [],
   "source": [
    "import numpy as np"
   ]
  },
  {
   "cell_type": "markdown",
   "metadata": {
    "id": "GWGWrUU_QOR6"
   },
   "source": [
    "### Pengenalan array"
   ]
  },
  {
   "cell_type": "markdown",
   "metadata": {
    "id": "7LxTP-IdLaSa"
   },
   "source": [
    "###Latihan-2 (2D array)"
   ]
  },
  {
   "cell_type": "code",
   "execution_count": 27,
   "metadata": {},
   "outputs": [
    {
     "name": "stdout",
     "output_type": "stream",
     "text": [
      "[[1 2 3]\n",
      " [4 5 6]\n",
      " [7 8 9]]\n"
     ]
    }
   ],
   "source": [
    "#2D Array (Matriks)\n",
    "A = np.array([[1, 2, 3], [4, 5, 6], [7, 8, 9]])\n",
    "print(A)"
   ]
  },
  {
   "cell_type": "code",
   "execution_count": 28,
   "metadata": {
    "colab": {
     "base_uri": "https://localhost:8080/"
    },
    "id": "2ncKwccePLyf",
    "outputId": "c73e8465-ef8a-4f47-bef0-d40dd70dd6c0"
   },
   "outputs": [
    {
     "name": "stdout",
     "output_type": "stream",
     "text": [
      "banyaknya entry =  9\n",
      "dimensi array =  2\n",
      "ukuran array =  (3, 3)\n"
     ]
    }
   ],
   "source": [
    "#Lengkapi kodingan berikut\n",
    "print('banyaknya entry = ', A.size)\n",
    "print('dimensi array = ', A.ndim)\n",
    "print('ukuran array = ', A.shape)"
   ]
  },
  {
   "cell_type": "markdown",
   "metadata": {
    "id": "dabJyOB3L6Kb"
   },
   "source": [
    "###Latihan-3 (Slicing)"
   ]
  },
  {
   "cell_type": "code",
   "execution_count": 29,
   "metadata": {
    "colab": {
     "base_uri": "https://localhost:8080/"
    },
    "id": "zm20sFkSNbds",
    "outputId": "7470e934-7d89-4f6a-bb44-ab9b8989c21b"
   },
   "outputs": [
    {
     "name": "stdout",
     "output_type": "stream",
     "text": [
      "baris ke-3 =  [7 8 9]\n",
      "entry ke-1 & 2 baris ke-3 =  [7 8]\n",
      "entry ke-2 & 3 kolom ke-3 =  [6 9]\n"
     ]
    }
   ],
   "source": [
    "#Lengkapi kodingan berikut\n",
    "print('baris ke-3 = ', A[2])\n",
    "print('entry ke-1 & 2 baris ke-3 = ', A[2, :2])\n",
    "print('entry ke-2 & 3 kolom ke-3 = ', A[1:3, 2])"
   ]
  },
  {
   "cell_type": "markdown",
   "metadata": {
    "id": "u69Wt0HHOdDh"
   },
   "source": [
    "output jawaban:\n",
    "baris ke-3 =  [7 8 9]\n",
    "\n",
    "entry ke-1 & 2 baris ke-3 =  [7 8]\n",
    "\n",
    "entry ke-2 & 3 kolom ke-3 =  [6 9]"
   ]
  },
  {
   "cell_type": "markdown",
   "metadata": {
    "id": "kjS8YZLAMXB_"
   },
   "source": [
    "### Latihan-4 (Operasi matriks)"
   ]
  },
  {
   "cell_type": "code",
   "execution_count": 32,
   "metadata": {
    "id": "RIH4ROFmGuip"
   },
   "outputs": [],
   "source": [
    "A = np.array([[1, 2], [7,8]])\n",
    "B = np.array([[3, 5], [1,6]])"
   ]
  },
  {
   "cell_type": "markdown",
   "metadata": {
    "id": "dj6lY65jLBqx"
   },
   "source": [
    "Hitunglah:\n",
    "*   2*A\n",
    "*   2+A\n",
    "*   A+B\n",
    "*   A-B\n",
    "*   determinan A\n",
    "*   invers dari B, simpan jadi matriks D\n",
    "*   transpose D\n",
    "*   nilai eigen dan vektor eigen dari A dan B\n",
    "\n",
    "\n",
    "\n",
    "\n",
    "\n"
   ]
  },
  {
   "cell_type": "code",
   "execution_count": 33,
   "metadata": {
    "id": "zkywTKVELriJ"
   },
   "outputs": [
    {
     "name": "stdout",
     "output_type": "stream",
     "text": [
      "Hasil Perkalian 2*A adalah: \n",
      "[[ 2  4]\n",
      " [14 16]]\n",
      "\n",
      "Hasil Penjumlahan 2+A adalah: \n",
      "[[ 3  4]\n",
      " [ 9 10]]\n",
      "\n",
      "Hasil Penjumlahan A+B adalah: \n",
      "[[ 4  7]\n",
      " [ 8 14]]\n",
      "\n",
      "Hasil Pengurangan A-B adalah: \n",
      "[[-2 -3]\n",
      " [ 6  2]]\n",
      "\n",
      "Determinan matriks A -6.0\n",
      "\n",
      "Invers Matriks B: \n",
      " [[ 0.46153846 -0.38461538]\n",
      " [-0.07692308  0.23076923]]\n",
      "\n",
      "Transpose D: \n",
      " [[ 0.46153846 -0.07692308]\n",
      " [-0.38461538  0.23076923]]\n"
     ]
    }
   ],
   "source": [
    "#Ketik Kode disini\n",
    "X = 2*A\n",
    "print(\"Hasil Perkalian 2*A adalah: \")\n",
    "print(X)\n",
    "\n",
    "X = 2+A\n",
    "print(\"\\nHasil Penjumlahan 2+A adalah: \")\n",
    "print(X)\n",
    "\n",
    "X = A+B\n",
    "print(\"\\nHasil Penjumlahan A+B adalah: \")\n",
    "print(X)\n",
    "\n",
    "X = A-B\n",
    "print(\"\\nHasil Pengurangan A-B adalah: \")\n",
    "print(X)\n",
    "\n",
    "print('\\nDeterminan matriks A', np.linalg.det(A))\n",
    "\n",
    "D = np.linalg.inv(B)\n",
    "print(\"\\nInvers Matriks B: \\n\", D)\n",
    "\n",
    "D_t = D.T\n",
    "print(\"\\nTranspose D: \\n\", D_t)\n",
    "\n"
   ]
  },
  {
   "cell_type": "code",
   "execution_count": 35,
   "metadata": {
    "id": "zkywTKVELriJ"
   },
   "outputs": [
    {
     "name": "stdout",
     "output_type": "stream",
     "text": [
      "\n",
      "nilai eigen matriks A =  [-0.62347538  9.62347538]\n",
      "\n",
      "vektor eigen matriks A = \n",
      " [[-0.77640358 -0.22592838]\n",
      " [ 0.63023605 -0.97414391]]\n",
      "\n",
      "nilai eigen matriks B =  [1.8074176 7.1925824]\n",
      "\n",
      "vektor eigen matriks B = \n",
      " [[-0.97271381 -0.76626443]\n",
      " [ 0.23200828 -0.64252535]]\n"
     ]
    }
   ],
   "source": [
    "print('\\nnilai eigen matriks A = ', np.linalg.eig(A)[0])\n",
    "print('\\nvektor eigen matriks A = \\n', np.linalg.eig(A)[1])\n",
    "\n",
    "print('\\nnilai eigen matriks B = ', np.linalg.eig(B)[0])\n",
    "print('\\nvektor eigen matriks B = \\n', np.linalg.eig(B)[1])"
   ]
  },
  {
   "cell_type": "code",
   "execution_count": 39,
   "metadata": {},
   "outputs": [
    {
     "name": "stdout",
     "output_type": "stream",
     "text": [
      "perkalian antar entry di B dan D= \n",
      "[[ 1.38461538 -1.92307692]\n",
      " [-0.07692308  1.38461538]]\n",
      "\n",
      "perkalian matriks B dan D = \n",
      " [[1.00000000e+00 0.00000000e+00]\n",
      " [1.11022302e-16 1.00000000e+00]]\n"
     ]
    }
   ],
   "source": [
    "#Tunjukkan bedanya di kodingan di bawah ini\n",
    "\n",
    "B = np.array([[3, 5], [1,6]])\n",
    "D = np.linalg.inv(B)\n",
    "\n",
    "#perkalian antar entry di B dan D\n",
    "J = B*D\n",
    "print('perkalian antar entry di B dan D= ')\n",
    "print(J)\n",
    "\n",
    "#perkalian matriks B dan D\n",
    "print('\\nperkalian matriks B dan D = \\n', np.matmul(B,D))\n",
    "\n",
    "# Perkalian antar entry di B dan D merupakan perkalian setiap variabel dikalikan setiap elemen matriks\n",
    "\n",
    "# Sedangkan, perkalian matriks B dan D merupakan hasil kali 2 matriks sesuai aturan perkalian matriks\n",
    "# di mana baris dikali dengan kolom"
   ]
  },
  {
   "cell_type": "markdown",
   "metadata": {
    "id": "7NwMsWC-MQgG"
   },
   "source": [
    "Apa perbedaan dari B*D (perkalian antar entry di B dan D) dan BD (perkalian matriks B dan D)? "
   ]
  },
  {
   "cell_type": "markdown",
   "metadata": {
    "id": "633JPFjMTk3Y"
   },
   "source": [
    "output jawaban: \n",
    "\n",
    "perkalian entry = [[ 1.38461538, -1.92307692], [-0.07692308,  1.38461538]]\n",
    "\n",
    "perkalian matriks = [[ 1.00000000e+00, -1.11022302e-16],\n",
    "       [ 1.11022302e-16,  1.00000000e+00]]\n"
   ]
  }
 ],
 "metadata": {
  "colab": {
   "collapsed_sections": [],
   "name": "Selasa_Maths_AI_dengan_Python(pengenalan).ipynb",
   "provenance": []
  },
  "kernelspec": {
   "display_name": "Python 3 (ipykernel)",
   "language": "python",
   "name": "python3"
  },
  "language_info": {
   "codemirror_mode": {
    "name": "ipython",
    "version": 3
   },
   "file_extension": ".py",
   "mimetype": "text/x-python",
   "name": "python",
   "nbconvert_exporter": "python",
   "pygments_lexer": "ipython3",
   "version": "3.9.7"
  }
 },
 "nbformat": 4,
 "nbformat_minor": 1
}
